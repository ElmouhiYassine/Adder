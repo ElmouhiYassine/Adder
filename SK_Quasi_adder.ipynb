{
 "cells": [
  {
   "cell_type": "code",
   "execution_count": 1,
   "id": "e6f677f0",
   "metadata": {},
   "outputs": [],
   "source": [
    "import numpy as np\n"
   ]
  },
  {
   "cell_type": "code",
   "execution_count": 2,
   "id": "0402b6c6",
   "metadata": {},
   "outputs": [
    {
     "name": "stdout",
     "output_type": "stream",
     "text": [
      "A=0, B=0 → Sum=0, Carry=0\n",
      "A=0, B=1 → Sum=1, Carry=0\n",
      "A=1, B=0 → Sum=1, Carry=0\n",
      "A=1, B=1 → Sum=0, Carry=1\n"
     ]
    }
   ],
   "source": [
    "# Binary case\n",
    "def half_adder(A, B):\n",
    "    # Ensure inputs are binary (0 or 1)\n",
    "    if A not in (0, 1) or B not in (0, 1):\n",
    "        raise ValueError(\"Inputs must be 0 or 1\")\n",
    "    \n",
    "    sum_ = A ^ B      # XOR\n",
    "    carry = A & B     # AND\n",
    "    return sum_, carry\n",
    "\n",
    "# Example usage\n",
    "for A in (0, 1):\n",
    "    for B in (0, 1):\n",
    "        s, c = half_adder(A, B)\n",
    "        print(f\"A={A}, B={B} → Sum={s}, Carry={c}\")"
   ]
  },
  {
   "cell_type": "code",
   "execution_count": 3,
   "id": "f7e0ed24",
   "metadata": {},
   "outputs": [
    {
     "name": "stdout",
     "output_type": "stream",
     "text": [
      "A B Cin | Sum Carry\n",
      "0 0  0   |  0    0\n",
      "0 0  1   |  1    0\n",
      "0 1  0   |  1    0\n",
      "0 1  1   |  0    1\n",
      "1 0  0   |  1    0\n",
      "1 0  1   |  0    1\n",
      "1 1  0   |  0    1\n",
      "1 1  1   |  1    1\n"
     ]
    }
   ],
   "source": [
    "#Binary case\n",
    "def full_adder(A, B, Cin):\n",
    "    # Check that all inputs are binary\n",
    "    if any(x not in (0, 1) for x in (A, B, Cin)):\n",
    "        raise ValueError(\"All inputs must be 0 or 1\")\n",
    "    \n",
    "    sum_ = A ^ B ^ Cin\n",
    "    carry_out = (A & B) | (A & Cin) | (B & Cin)\n",
    "    return sum_, carry_out\n",
    "\n",
    "# Example usage: full truth table\n",
    "print(\"A B Cin | Sum Carry\")\n",
    "for A in (0, 1):\n",
    "    for B in (0, 1):\n",
    "        for Cin in (0, 1):\n",
    "            s, c = full_adder(A, B, Cin)\n",
    "            print(f\"{A} {B}  {Cin}   |  {s}    {c}\")"
   ]
  },
  {
   "cell_type": "code",
   "execution_count": 4,
   "id": "15803979",
   "metadata": {},
   "outputs": [],
   "source": [
    "# Ternary tables\n",
    "ternary_neg_table ={\n",
    "    1:0,\n",
    "    0:1,\n",
    "    .5:.5  \n",
    "}\n",
    "\n",
    "ternary_xor_table = {\n",
    "    (1, 1): 0,\n",
    "    (1, .5): .5,\n",
    "    (1, 0): 1,\n",
    "    (.5, 1): .5,\n",
    "    (.5, .5): .5,\n",
    "    (.5, 0): .5,\n",
    "    (0, 1): 1,\n",
    "    (0, .5): .5,\n",
    "    (0, 0): 0\n",
    "}\n",
    "\n",
    "ternary_and_table = {\n",
    "    (1, 1): 1,\n",
    "    (1, .5): .5,\n",
    "    (1, 0): 0,\n",
    "    (.5, 1): .5,\n",
    "    (.5, .5): .5,\n",
    "    (.5, 0): 0,\n",
    "    (0, 1): 0,\n",
    "    (0, .5): .5,\n",
    "    (0, 0): 0\n",
    "}\n",
    "\n",
    "ternary_or_table = {\n",
    "    (1, 1): 1,\n",
    "    (1, .5): 1,\n",
    "    (1, 0): 1,\n",
    "    (.5, 1): 1,\n",
    "    (.5, .5): .5,\n",
    "    (.5, 0): .5,\n",
    "    (0, 1): 1,\n",
    "    (0, .5): .5,\n",
    "    (0, 0): 0\n",
    "}"
   ]
  },
  {
   "cell_type": "code",
   "execution_count": 5,
   "id": "0b4cf08c",
   "metadata": {},
   "outputs": [],
   "source": [
    "#quasi-connectives\n",
    "\n",
    "ternary_qor_table = {\n",
    "    (1, 1): 1,\n",
    "    (1, .5): 1,\n",
    "    (1, 0): 1,\n",
    "    (.5, 1): 1,\n",
    "    (.5, .5): .5,\n",
    "    (.5, 0): 0,\n",
    "    (0, 1): 1,\n",
    "    (0, .5): 0,\n",
    "    (0, 0): 0\n",
    "}\n",
    "\n",
    "ternary_qand_table = {\n",
    "    (1, 1): 1,\n",
    "    (1, .5): 1,\n",
    "    (1, 0): 0,\n",
    "    (.5, 1): 1,\n",
    "    (.5, .5): .5,\n",
    "    (.5, 0): 0,\n",
    "    (0, 1): 0,\n",
    "    (0, .5): 0,\n",
    "    (0, 0): 0\n",
    "}\n",
    "\n",
    "ternary_qxor_table = {\n",
    "    (1, 1): 0,\n",
    "    (1, .5): 1,\n",
    "    (1, 0): 1,\n",
    "    (.5, 1): 1,\n",
    "    (.5, .5): .5,\n",
    "    (.5, 0): 1,\n",
    "    (0, 1): 1,\n",
    "    (0, .5): 1,\n",
    "    (0, 0): 0\n",
    "}"
   ]
  },
  {
   "cell_type": "code",
   "execution_count": 6,
   "id": "9f3a3172",
   "metadata": {},
   "outputs": [],
   "source": [
    "def txor(a, b):\n",
    "    return ternary_xor_table[(a, b)]\n",
    "\n",
    "def tand(a, b):\n",
    "    return ternary_and_table[(a, b)]\n",
    "\n",
    "def tor(a,b):\n",
    "    return ternary_or_table[(a,b)]\n",
    "\n",
    "def tneg(a):\n",
    "    return ternary_neg_table[(a)]\n",
    "\n",
    "def tqxor(a, b):\n",
    "    return ternary_qxor_table[(a, b)]\n",
    "\n",
    "def tqand(a, b):\n",
    "    return ternary_qand_table[(a, b)]\n",
    "\n",
    "def tqor(a,b):\n",
    "    return ternary_qor_table[(a,b)]"
   ]
  },
  {
   "cell_type": "code",
   "execution_count": 7,
   "id": "87384f84",
   "metadata": {},
   "outputs": [],
   "source": [
    "def sk_hadd(a, b):\n",
    "    sk_hsum = txor(a,b)\n",
    "    sk_hcarry = tand(a,b)\n",
    "    return sk_hsum, sk_hcarry"
   ]
  },
  {
   "cell_type": "code",
   "execution_count": 8,
   "id": "7884ecaf",
   "metadata": {},
   "outputs": [
    {
     "name": "stdout",
     "output_type": "stream",
     "text": [
      "A=0, B=0 → skSum=0, skCarry=0\n",
      "A=0, B=0.5 → skSum=0.5, skCarry=0.5\n",
      "A=0, B=1 → skSum=1, skCarry=0\n",
      "A=0.5, B=0 → skSum=0.5, skCarry=0\n",
      "A=0.5, B=0.5 → skSum=0.5, skCarry=0.5\n",
      "A=0.5, B=1 → skSum=0.5, skCarry=0.5\n",
      "A=1, B=0 → skSum=1, skCarry=0\n",
      "A=1, B=0.5 → skSum=0.5, skCarry=0.5\n",
      "A=1, B=1 → skSum=0, skCarry=1\n"
     ]
    }
   ],
   "source": [
    "for A in (0,.5, 1):\n",
    "    for B in (0,.5, 1):\n",
    "        s, c = sk_hadd(A, B)\n",
    "        print(f\"A={A}, B={B} → skSum={s}, skCarry={c}\")"
   ]
  },
  {
   "cell_type": "code",
   "execution_count": 25,
   "id": "22625e35",
   "metadata": {},
   "outputs": [
    {
     "name": "stdout",
     "output_type": "stream",
     "text": [
      "  A   B  Cin | Sum Carry\n",
      "  0   0    0 |    0     0\n",
      "  0   0  0.5 |  0.5     0\n",
      "  0   0    1 |    1     0\n",
      "  0 0.5    0 |  0.5   0.5\n",
      "  0 0.5  0.5 |  0.5   0.5\n",
      "  0 0.5    1 |  0.5   0.5\n",
      "  0   1    0 |    1     0\n",
      "  0   1  0.5 |  0.5   0.5\n",
      "  0   1    1 |    0     1\n",
      "0.5   0    0 |  0.5   0.5\n",
      "0.5   0  0.5 |  0.5   0.5\n",
      "0.5   0    1 |  0.5   0.5\n",
      "0.5 0.5    0 |  0.5   0.5\n",
      "0.5 0.5  0.5 |  0.5   0.5\n",
      "0.5 0.5    1 |  0.5   0.5\n",
      "0.5   1    0 |  0.5   0.5\n",
      "0.5   1  0.5 |  0.5   0.5\n",
      "0.5   1    1 |  0.5   0.5\n",
      "  1   0    0 |    1     0\n",
      "  1   0  0.5 |  0.5   0.5\n",
      "  1   0    1 |    0     1\n",
      "  1 0.5    0 |  0.5   0.5\n",
      "  1 0.5  0.5 |  0.5   0.5\n",
      "  1 0.5    1 |  0.5   0.5\n",
      "  1   1    0 |    0     1\n",
      "  1   1  0.5 |  0.5     1\n",
      "  1   1    1 |    1     1\n"
     ]
    }
   ],
   "source": [
    "def full_sk_adder(A, B, Cin):    \n",
    "    sum_sk = txor(A,txor(B,Cin))\n",
    "    carry_out_sk = tor(tand(A,B),tand(Cin,txor(A,B)))# C'=(A.B)+(C.(A.XOR.B))\n",
    "    return sum_sk, carry_out_sk\n",
    "\n",
    "\n",
    "# Example usage: full truth table\n",
    "print(\"  A   B  Cin | Sum Carry\")\n",
    "for A in (0,.5, 1):\n",
    "    for B in (0,.5, 1):\n",
    "        for Cin in (0,.5, 1):\n",
    "            s, c = full_sk_adder(A, B, Cin)\n",
    "            print(f\"{A:>3} {B:>3} {Cin:>4} | {s:>4} {c:>5}\")\n"
   ]
  },
  {
   "cell_type": "code",
   "execution_count": 15,
   "id": "0b471f15",
   "metadata": {},
   "outputs": [],
   "source": [
    "def ternary_ripple_adder(A_list, B_list):\n",
    "    # Pad both lists to the same length\n",
    "    max_len = max(len(A_list), len(B_list))\n",
    "    A_list = A_list[::-1] + [0] * (max_len - len(A_list))  # Reverse for LSB-first\n",
    "    B_list = B_list[::-1] + [0] * (max_len - len(B_list))\n",
    "\n",
    "    result = []\n",
    "    carry = 0\n",
    "\n",
    "    for a, b in zip(A_list, B_list):\n",
    "        s, carry = full_sk_adder(a, b, carry)\n",
    "        result.append(s)\n",
    "\n",
    "    if carry != -1:\n",
    "        result.append(carry)\n",
    "\n",
    "    return result[::-1]  # Return to MSB-first order"
   ]
  },
  {
   "cell_type": "code",
   "execution_count": 13,
   "id": "ce66c82b",
   "metadata": {},
   "outputs": [
    {
     "name": "stdout",
     "output_type": "stream",
     "text": [
      "Sum: [1, 0.5, 0.5, 0.5]\n"
     ]
    }
   ],
   "source": [
    "A = [1, 0, .5]   # Represents 4 or 5\n",
    "B = [1, 1, .5]   # 6 ou 7\n",
    "\n",
    "sum_result = ternary_ripple_adder(A, B)\n",
    "print(\"Sum:\", sum_result)"
   ]
  },
  {
   "cell_type": "code",
   "execution_count": null,
   "id": "0a38223d",
   "metadata": {},
   "outputs": [],
   "source": [
    "#TODO: tell the system to replace .5 by 0 and calculate the result\n",
    "# Find a different AND or XOR that could do this, maybe Middle Kleene?"
   ]
  },
  {
   "cell_type": "code",
   "execution_count": 14,
   "id": "281096b3",
   "metadata": {},
   "outputs": [
    {
     "name": "stdout",
     "output_type": "stream",
     "text": [
      "A B Cin | Sum Carry\n",
      "  0   0    0 |    0     0\n",
      "  0   0  0.5 |    1     0\n",
      "  0   0    1 |    1     0\n",
      "  0 0.5    0 |    1     0\n",
      "  0 0.5  0.5 |    1     1\n",
      "  0 0.5    1 |    1     1\n",
      "  0   1    0 |    1     0\n",
      "  0   1  0.5 |    1     1\n",
      "  0   1    1 |    0     1\n",
      "0.5   0    0 |    1     0\n",
      "0.5   0  0.5 |    1     1\n",
      "0.5   0    1 |    1     1\n",
      "0.5 0.5    0 |    1     0\n",
      "0.5 0.5  0.5 |  0.5   0.5\n",
      "0.5 0.5    1 |    1     1\n",
      "0.5   1    0 |    1     1\n",
      "0.5   1  0.5 |    1     1\n",
      "0.5   1    1 |    1     1\n",
      "  1   0    0 |    1     0\n",
      "  1   0  0.5 |    0     1\n",
      "  1   0    1 |    0     1\n",
      "  1 0.5    0 |    0     1\n",
      "  1 0.5  0.5 |    1     1\n",
      "  1 0.5    1 |    0     1\n",
      "  1   1    0 |    0     1\n",
      "  1   1  0.5 |    0     1\n",
      "  1   1    1 |    1     1\n"
     ]
    }
   ],
   "source": [
    "def full_q_adder(A, B, Cin):    \n",
    "    sum_q = tqxor(A,tqxor(B,Cin))\n",
    "    carry_out_q = tqor(tqand(A,B),tqand(Cin,tqxor(A,B)))# C'=(A.B)+(C.(A.XOR.B))\n",
    "    return sum_q, carry_out_q\n",
    "\n",
    "\n",
    "# Example usage: full truth table\n",
    "print(\"A B Cin | Sum Carry\")\n",
    "for A in (0,.5, 1):\n",
    "    for B in (0,.5, 1):\n",
    "        for Cin in (0,.5, 1):\n",
    "            s, c = full_q_adder(A, B, Cin)\n",
    "            print(f\"{A:>3} {B:>3} {Cin:>4} | {s:>4} {c:>5}\")\n"
   ]
  },
  {
   "cell_type": "code",
   "execution_count": 17,
   "id": "09b086dd",
   "metadata": {},
   "outputs": [],
   "source": [
    "def ternary_ripple_qadder(A_list, B_list):\n",
    "    # Pad both lists to the same length\n",
    "    max_len = max(len(A_list), len(B_list))\n",
    "    A_list = A_list[::-1] + [0] * (max_len - len(A_list))  # Reverse for LSB-first\n",
    "    B_list = B_list[::-1] + [0] * (max_len - len(B_list))\n",
    "\n",
    "    result = []\n",
    "    carry = 0\n",
    "\n",
    "    for a, b in zip(A_list, B_list):\n",
    "        s, carry = full_q_adder(a, b, carry)\n",
    "        result.append(s)\n",
    "\n",
    "    if carry != -1:\n",
    "        result.append(carry)\n",
    "\n",
    "    return result[::-1]  # Return to MSB-first order"
   ]
  },
  {
   "cell_type": "code",
   "execution_count": 24,
   "id": "83d45920",
   "metadata": {},
   "outputs": [
    {
     "name": "stdout",
     "output_type": "stream",
     "text": [
      "Sum: [1, 1, 0, 0]\n"
     ]
    }
   ],
   "source": [
    "A = [.5, 1, 1]   # Represents min 1\n",
    "B = [1, .5, .5]   # min 4\n",
    "\n",
    "sum_result = ternary_ripple_qadder(A, B)\n",
    "print(\"Sum:\", sum_result)"
   ]
  },
  {
   "cell_type": "code",
   "execution_count": 19,
   "id": "800ba119",
   "metadata": {},
   "outputs": [
    {
     "name": "stdout",
     "output_type": "stream",
     "text": [
      "Sum: [1, 1, 1, 0]\n"
     ]
    }
   ],
   "source": [
    "A = [1, .5, 1]   # min 5, max 7\n",
    "B = [1, .5, .5]   # min 4, max 7: qadd is 13 so closer to 14 than to 9\n",
    "\n",
    "sum_result = ternary_ripple_qadder(A, B)\n",
    "print(\"Sum:\", sum_result)"
   ]
  },
  {
   "cell_type": "code",
   "execution_count": 21,
   "id": "5381d11e",
   "metadata": {},
   "outputs": [
    {
     "name": "stdout",
     "output_type": "stream",
     "text": [
      "Sum: [1, 1, 0, 1]\n"
     ]
    }
   ],
   "source": [
    "A = [.5, 1, .5]   # min 2, max 7\n",
    "B = [.5, 1, .5]   # min 2, max 7: qadd is 15 so closer to 14 than to 4\n",
    "\n",
    "sum_result = ternary_ripple_qadder(A, B)\n",
    "print(\"Sum:\", sum_result)"
   ]
  },
  {
   "cell_type": "code",
   "execution_count": 23,
   "id": "d9e776ca",
   "metadata": {},
   "outputs": [
    {
     "name": "stdout",
     "output_type": "stream",
     "text": [
      "Sum: [1, 1, 1, 0]\n"
     ]
    }
   ],
   "source": [
    "A = [.5, 1, 1]   # min 2, max 7\n",
    "B = [.5, 1, 1]   # min 2, max 7: qadd is 13 so closer to 14 than to 9\n",
    "\n",
    "sum_result = ternary_ripple_adder(A, B)\n",
    "print(\"Sum:\", sum_result)"
   ]
  },
  {
   "cell_type": "code",
   "execution_count": null,
   "id": "60eb9254",
   "metadata": {},
   "outputs": [],
   "source": [
    "## Upshot: resolution here is sometimes conservative and sometimes not."
   ]
  }
 ],
 "metadata": {
  "kernelspec": {
   "display_name": "Python 3 (ipykernel)",
   "language": "python",
   "name": "python3"
  },
  "language_info": {
   "codemirror_mode": {
    "name": "ipython",
    "version": 3
   },
   "file_extension": ".py",
   "mimetype": "text/x-python",
   "name": "python",
   "nbconvert_exporter": "python",
   "pygments_lexer": "ipython3",
   "version": "3.9.7"
  }
 },
 "nbformat": 4,
 "nbformat_minor": 5
}
