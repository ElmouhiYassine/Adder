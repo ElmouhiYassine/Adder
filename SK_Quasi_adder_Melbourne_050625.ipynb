import numpy as np
# Binary case
def half_adder(A, B):
    # Ensure inputs are binary (0 or 1)
    if A not in (0, 1) or B not in (0, 1):
        raise ValueError("Inputs must be 0 or 1")
    
    sum_ = A ^ B      # XOR
    carry = A & B     # AND
    return sum_, carry

# Example usage
for A in (0, 1):
    for B in (0, 1):
        s, c = half_adder(A, B)
        print(f"A={A}, B={B} → Sum={s}, Carry={c}")

#Binary case
def full_adder(A, B, Cin):
    # Check that all inputs are binary
    if any(x not in (0, 1) for x in (A, B, Cin)):
        raise ValueError("All inputs must be 0 or 1")
    
    sum_ = A ^ B ^ Cin
    carry_out = (A & B) | (A & Cin) | (B & Cin)
    return sum_, carry_out

# Example usage: full truth table
print("A B Cin | Sum Carry")
for A in (0, 1):
    for B in (0, 1):
        for Cin in (0, 1):
            s, c = full_adder(A, B, Cin)
            print(f"{A} {B}  {Cin}   |  {s}    {c}")

# Ternary tables
ternary_neg_table ={
    1:0,
    0:1,
    .5:.5  
}

ternary_xor_table = {
    (1, 1): 0,
    (1, .5): .5,
    (1, 0): 1,
    (.5, 1): .5,
    (.5, .5): .5,
    (.5, 0): .5,
    (0, 1): 1,
    (0, .5): .5,
    (0, 0): 0
}

ternary_and_table = {
    (1, 1): 1,
    (1, .5): .5,
    (1, 0): 0,
    (.5, 1): .5,
    (.5, .5): .5,
    (.5, 0): 0,
    (0, 1): 0,
    (0, .5): .5,
    (0, 0): 0
}

ternary_or_table = {
    (1, 1): 1,
    (1, .5): 1,
    (1, 0): 1,
    (.5, 1): 1,
    (.5, .5): .5,
    (.5, 0): .5,
    (0, 1): 1,
    (0, .5): .5,
    (0, 0): 0
}

#quasi-connectives

ternary_qor_table = {
    (1, 1): 1,
    (1, .5): 1,
    (1, 0): 1,
    (.5, 1): 1,
    (.5, .5): .5,
    (.5, 0): 0,
    (0, 1): 1,
    (0, .5): 0,
    (0, 0): 0
}

ternary_qand_table = {
    (1, 1): 1,
    (1, .5): 1,
    (1, 0): 0,
    (.5, 1): 1,
    (.5, .5): .5,
    (.5, 0): 0,
    (0, 1): 0,
    (0, .5): 0,
    (0, 0): 0
}

ternary_qxor_table = {
    (1, 1): 0,
    (1, .5): 0,
    (1, 0): 1,
    (.5, 1): 0,
    (.5, .5): .5,
    (.5, 0): 0,
    (0, 1): 1,
    (0, .5): 1,
    (0, 0): 0
}

# Next
# PESSIMISTIC AND / OPTIMISTIC OR (duals)


ternary_oor_table = {
    (1, 1): 1,
    (1, .5): 1,
    (1, 0): 1,
    (.5, 1): 1,
    (.5, .5): .5,
    (.5, 0): 1,
    (0, 1): 1,
    (0, .5): 1,
    (0, 0): 0
}

ternary_pand_table = {
    (1, 1): 1,
    (1, .5): 0,
    (1, 0): 0,
    (.5, 1): 0,
    (.5, .5): .5,
    (.5, 0): 0,
    (0, 1): 0,
    (0, .5): 0,
    (0, 0): 0
}


ternary_opxor_table = {
    (1, 1): 0,
    (1, .5): 1,
    (1, 0): 1,
    (.5, 1): 1,
    (.5, .5): .5,
    (.5, 0): 1,
    (0, 1): 1,
    (0, .5): 1,
    (0, 0): 0
}

def txor(a, b):
    return ternary_xor_table[(a, b)]

def tand(a, b):
    return ternary_and_table[(a, b)]

def tor(a,b):
    return ternary_or_table[(a,b)]

def tneg(a):
    return ternary_neg_table[(a)]

##

def tqxor(a, b):
    return ternary_qxor_table[(a, b)]

def tqand(a, b):
    return ternary_qand_table[(a, b)]

def tqor(a,b):
    return ternary_qor_table[(a,b)]

#

def topxor(a, b):
    return ternary_opxor_table[(a, b)]

def tpand(a, b):
    return ternary_pand_table[(a, b)]

def toor(a,b):
    return ternary_oor_table[(a,b)]

def sk_hadd(a, b):
    sk_hsum = txor(a,b)
    sk_hcarry = tand(a,b)
    return sk_hsum, sk_hcarry

for A in (0,.5, 1):
    for B in (0,.5, 1):
        s, c = sk_hadd(A, B)
        print(f"A={A}, B={B} → skSum={s}, skCarry={c}")

def full_sk_adder(A, B, Cin):    
    sum_sk = txor(A,txor(B,Cin))
    carry_out_sk = tor(tand(A,B),tand(Cin,txor(A,B)))# C'=(A.B)+(C.(A.XOR.B))
    return sum_sk, carry_out_sk


# Example usage: full truth table
print("  A   B  Cin | Sum Carry")
for A in (0,.5, 1):
    for B in (0,.5, 1):
        for Cin in (0,.5, 1):
            s, c = full_sk_adder(A, B, Cin)
            print(f"{A:>3} {B:>3} {Cin:>4} | {s:>4} {c:>5}")

def ternary_ripple_adder(A_list, B_list):
    # Pad both lists to the same length
    max_len = max(len(A_list), len(B_list))
    A_list = A_list[::-1] + [0] * (max_len - len(A_list))  # Reverse for LSB-first
    B_list = B_list[::-1] + [0] * (max_len - len(B_list))

    result = []
    carry = 0

    for a, b in zip(A_list, B_list):
        s, carry = full_sk_adder(a, b, carry)
        result.append(s)

    if carry != -1:
        result.append(carry)

    return result[::-1]  # Return to MSB-first order

A = [1, 0, .5]   # Represents 4 or 5
B = [1, 1, .5]   # 6 ou 7

sum_result = ternary_ripple_adder(A, B)
print("Sum:", sum_result)

#TODO: tell the system to replace .5 by 0 and calculate the result
# Find a different AND or XOR that could do this, maybe Middle Kleene?

def full_q_adder(A, B, Cin):    
    sum_q = tqxor(A,tqxor(B,Cin))
    carry_out_q = tqor(tqand(A,B),tqand(Cin,tqxor(A,B)))# C'=(A.B)+(C.(A.XOR.B))
    return sum_q, carry_out_q


# Example usage: full truth table
print("A B Cin | Sum Carry")
for A in (0,.5, 1):
    for B in (0,.5, 1):
        for Cin in (0,.5, 1):
            s, c = full_q_adder(A, B, Cin)
            print(f"{A:>3} {B:>3} {Cin:>4} | {s:>4} {c:>5}")

def ternary_ripple_qadder(A_list, B_list):
    # Pad both lists to the same length
    max_len = max(len(A_list), len(B_list))
    A_list = A_list[::-1] + [0] * (max_len - len(A_list))  # Reverse for LSB-first
    B_list = B_list[::-1] + [0] * (max_len - len(B_list))

    result = []
    carry = 0

    for a, b in zip(A_list, B_list):
        s, carry = full_q_adder(a, b, carry)
        result.append(s)

    if carry != -1:
        result.append(carry)

    return result[::-1]  # Return to MSB-first order

A = [1, 0, .5]   # Represents 4 or 5
B = [1, 1, .5]   # 6 ou 7

sum_result = ternary_ripple_qadder(A, B)
print("Sum:", sum_result)

A = [1, .5, 1]   # min 5, max 7
B = [1, .5, .5]   # min 4, max 7

sum_result = ternary_ripple_qadder(A, B)
print("Sum:", sum_result)

A = [.5, 1, .5]   # min 2, max 7
B = [.5, 1, .5]   # min 2, max 7: qadd is 15 so closer to 14 than to 4

sum_result = ternary_ripple_qadder(A, B)
print("Sum:", sum_result)

A = [.5, 1, 1]   # min 2, max 7
B = [.5, 1, 1]   # min 2, max 7: qadd is 13 so closer to 14 than to 9

sum_result = ternary_ripple_adder(A, B)
print("Sum:", sum_result)

## Upshot: resolution here is sometimes conservative and sometimes not.

A = [.5, 1, .5, .5, 0] # min 8 max 30
B = [.5, 1, 1, .5, 0]  # min 12 max 30
# donc somme entre 20 et 60

sum_result = ternary_ripple_qadder(A, B)
print("Sum:", sum_result)

A = [1,1,1,1,1] # 31
B = [1,1,1,1,1]  # 31
# donc somme entre 20 et 60
sum_result = ternary_ripple_adder(A, B)
print("Sum:", sum_result)

A = [1, 0, .5, 1, .5] # min 18, max 23
B = [.5, 1, .5, 0, .5]  # min 8, max 29
# donc somme entre 20 et 60
sum_result = ternary_ripple_qadder(A, B)
print("Sum:", sum_result)

# Conjecture: with q-adder, uncertainty disappears

A = [.5, .5, .5, .5, .5] # 0
B = [.5, 1, .5, 0.5, .5]  # 1
# donc somme entre 20 et 60
sum_result = ternary_ripple_qadder(A, B)
print("Sum:", sum_result)

def full_op_adder(A, B, Cin):    
    sum_op = topxor(A,topxor(B,Cin))
    carry_out_op = toor(tpand(A,B),tpand(Cin,topxor(A,B)))# C'=(A.B)+(C.(A.XOR.B))
    return sum_op, carry_out_op


# Example usage: full truth table
print("  A   B  Cin | Sum Carry")
for A in (0,.5, 1):
    for B in (0,.5, 1):
        for Cin in (0,.5, 1):
            s, c = full_op_adder(A, B, Cin)
            print(f"{A:>3} {B:>3} {Cin:>4} | {s:>4} {c:>5}")

def ternary_ripple_opadder(A_list, B_list):
    # Pad both lists to the same length
    max_len = max(len(A_list), len(B_list))
    A_list = A_list[::-1] + [0] * (max_len - len(A_list))  # Reverse for LSB-first
    B_list = B_list[::-1] + [0] * (max_len - len(B_list))

    result = []
    carry = 0

    for a, b in zip(A_list, B_list):
        s, carry = full_op_adder(a, b, carry)
        result.append(s)

    if carry != -1:
        result.append(carry)

    return result[::-1]  # Return to MSB-first order


A = [1,1,0,1,.5] # 0 or 64
B = [1,1,1,0,.5]  # 8 or 64
# donc somme entre 20 et 60
sum_result_sk = ternary_ripple_adder(A, B)
sum_result_q = ternary_ripple_qadder(A, B)
sum_result_op = ternary_ripple_opadder(A, B)

print("Sum SK:", sum_result_sk)
print("Sum Q:", sum_result_q)
print("Sum OP:", sum_result_op)

# Homework: write a function to transform these sequences into min and max in decimal
## Yassine: - Write loop on A and B to test all values for A+B with all three different input
## - Do it for all adders
## - Quantify min, max, and relative position of the approximation

## Image processing: take image A and calculate A = A+A-A for the three different additions
## Problem: define subtraction for binary
