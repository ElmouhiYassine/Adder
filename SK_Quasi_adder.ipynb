{
 "cells": [
  {
   "cell_type": "code",
   "id": "e6f677f0",
   "metadata": {
    "ExecuteTime": {
     "end_time": "2025-05-13T16:42:40.131061Z",
     "start_time": "2025-05-13T16:42:39.725109Z"
    }
   },
   "source": [
    "import numpy as np\n"
   ],
   "outputs": [],
   "execution_count": 1
  },
  {
   "cell_type": "code",
   "id": "0402b6c6",
   "metadata": {
    "ExecuteTime": {
     "end_time": "2025-05-13T16:42:40.195117Z",
     "start_time": "2025-05-13T16:42:40.175238Z"
    }
   },
   "source": [
    "# Binary case\n",
    "def half_adder(A, B):\n",
    "    # Ensure inputs are binary (0 or 1)\n",
    "    if A not in (0, 1) or B not in (0, 1):\n",
    "        raise ValueError(\"Inputs must be 0 or 1\")\n",
    "    \n",
    "    sum_ = A ^ B      # XOR\n",
    "    carry = A & B     # AND\n",
    "    return sum_, carry\n",
    "\n",
    "# Example usage\n",
    "for A in (0, 1):\n",
    "    for B in (0, 1):\n",
    "        s, c = half_adder(A, B)\n",
    "        print(f\"A={A}, B={B} → Sum={s}, Carry={c}\")"
   ],
   "outputs": [
    {
     "name": "stdout",
     "output_type": "stream",
     "text": [
      "A=0, B=0 → Sum=0, Carry=0\n",
      "A=0, B=1 → Sum=1, Carry=0\n",
      "A=1, B=0 → Sum=1, Carry=0\n",
      "A=1, B=1 → Sum=0, Carry=1\n"
     ]
    }
   ],
   "execution_count": 2
  },
  {
   "cell_type": "code",
   "id": "f7e0ed24",
   "metadata": {
    "ExecuteTime": {
     "end_time": "2025-05-13T16:42:41.410451Z",
     "start_time": "2025-05-13T16:42:41.396490Z"
    }
   },
   "source": [
    "#Binary case\n",
    "def full_adder(A, B, Cin):\n",
    "    # Check that all inputs are binary\n",
    "    if any(x not in (0, 1) for x in (A, B, Cin)):\n",
    "        raise ValueError(\"All inputs must be 0 or 1\")\n",
    "    \n",
    "    sum_ = A ^ B ^ Cin\n",
    "    carry_out = (A & B) | (A & Cin) | (B & Cin)\n",
    "    return sum_, carry_out\n",
    "\n",
    "# Example usage: full truth table\n",
    "print(\"A B Cin | Sum Carry\")\n",
    "for A in (0, 1):\n",
    "    for B in (0, 1):\n",
    "        for Cin in (0, 1):\n",
    "            s, c = full_adder(A, B, Cin)\n",
    "            print(f\"{A} {B}  {Cin}   |  {s}    {c}\")"
   ],
   "outputs": [
    {
     "name": "stdout",
     "output_type": "stream",
     "text": [
      "A B Cin | Sum Carry\n",
      "0 0  0   |  0    0\n",
      "0 0  1   |  1    0\n",
      "0 1  0   |  1    0\n",
      "0 1  1   |  0    1\n",
      "1 0  0   |  1    0\n",
      "1 0  1   |  0    1\n",
      "1 1  0   |  0    1\n",
      "1 1  1   |  1    1\n"
     ]
    }
   ],
   "execution_count": 3
  },
  {
   "cell_type": "code",
   "id": "15803979",
   "metadata": {
    "ExecuteTime": {
     "end_time": "2025-05-13T16:42:41.538070Z",
     "start_time": "2025-05-13T16:42:41.524551Z"
    }
   },
   "source": [
    "# Ternary tables\n",
    "ternary_neg_table ={\n",
    "    1:0,\n",
    "    0:1,\n",
    "    .5:.5  \n",
    "}\n",
    "\n",
    "ternary_xor_table = {\n",
    "    (1, 1): 0,\n",
    "    (1, .5): .5,\n",
    "    (1, 0): 1,\n",
    "    (.5, 1): .5,\n",
    "    (.5, .5): .5,\n",
    "    (.5, 0): .5,\n",
    "    (0, 1): 1,\n",
    "    (0, .5): .5,\n",
    "    (0, 0): 0\n",
    "}\n",
    "\n",
    "ternary_and_table = {\n",
    "    (1, 1): 1,\n",
    "    (1, .5): .5,\n",
    "    (1, 0): 0,\n",
    "    (.5, 1): .5,\n",
    "    (.5, .5): .5,\n",
    "    (.5, 0): 0,\n",
    "    (0, 1): 0,\n",
    "    (0, .5): .5,\n",
    "    (0, 0): 0\n",
    "}\n",
    "\n",
    "ternary_or_table = {\n",
    "    (1, 1): 1,\n",
    "    (1, .5): 1,\n",
    "    (1, 0): 1,\n",
    "    (.5, 1): 1,\n",
    "    (.5, .5): .5,\n",
    "    (.5, 0): .5,\n",
    "    (0, 1): 1,\n",
    "    (0, .5): .5,\n",
    "    (0, 0): 0\n",
    "}"
   ],
   "outputs": [],
   "execution_count": 4
  },
  {
   "cell_type": "code",
   "id": "0b4cf08c",
   "metadata": {
    "ExecuteTime": {
     "end_time": "2025-05-13T16:42:41.615978Z",
     "start_time": "2025-05-13T16:42:41.597297Z"
    }
   },
   "source": [
    "#quasi-connectives\n",
    "\n",
    "ternary_qor_table = {\n",
    "    (1, 1): 1,\n",
    "    (1, .5): 1,\n",
    "    (1, 0): 1,\n",
    "    (.5, 1): 1,\n",
    "    (.5, .5): .5,\n",
    "    (.5, 0): 0,\n",
    "    (0, 1): 1,\n",
    "    (0, .5): 0,\n",
    "    (0, 0): 0\n",
    "}\n",
    "\n",
    "ternary_qand_table = {\n",
    "    (1, 1): 1,\n",
    "    (1, .5): 1,\n",
    "    (1, 0): 0,\n",
    "    (.5, 1): 1,\n",
    "    (.5, .5): .5,\n",
    "    (.5, 0): 0,\n",
    "    (0, 1): 0,\n",
    "    (0, .5): 0,\n",
    "    (0, 0): 0\n",
    "}\n",
    "\n",
    "ternary_qxor_table = {\n",
    "    (1, 1): 0,\n",
    "    (1, .5): 1,\n",
    "    (1, 0): 1,\n",
    "    (.5, 1): 1,\n",
    "    (.5, .5): .5,\n",
    "    (.5, 0): 1,\n",
    "    (0, 1): 1,\n",
    "    (0, .5): 1,\n",
    "    (0, 0): 0\n",
    "}"
   ],
   "outputs": [],
   "execution_count": 5
  },
  {
   "cell_type": "code",
   "id": "9f3a3172",
   "metadata": {
    "ExecuteTime": {
     "end_time": "2025-05-13T16:42:41.698802Z",
     "start_time": "2025-05-13T16:42:41.681137Z"
    }
   },
   "source": [
    "def txor(a, b):\n",
    "    return ternary_xor_table[(a, b)]\n",
    "\n",
    "def tand(a, b):\n",
    "    return ternary_and_table[(a, b)]\n",
    "\n",
    "def tor(a,b):\n",
    "    return ternary_or_table[(a,b)]\n",
    "\n",
    "def tneg(a):\n",
    "    return ternary_neg_table[(a)]\n",
    "\n",
    "def tqxor(a, b):\n",
    "    return ternary_qxor_table[(a, b)]\n",
    "\n",
    "def tqand(a, b):\n",
    "    return ternary_qand_table[(a, b)]\n",
    "\n",
    "def tqor(a,b):\n",
    "    return ternary_qor_table[(a,b)]"
   ],
   "outputs": [],
   "execution_count": 6
  },
  {
   "cell_type": "code",
   "id": "87384f84",
   "metadata": {
    "ExecuteTime": {
     "end_time": "2025-05-13T16:42:41.764667Z",
     "start_time": "2025-05-13T16:42:41.749181Z"
    }
   },
   "source": [
    "def sk_hadd(a, b):\n",
    "    sk_hsum = txor(a,b)\n",
    "    sk_hcarry = tand(a,b)\n",
    "    return sk_hsum, sk_hcarry"
   ],
   "outputs": [],
   "execution_count": 7
  },
  {
   "cell_type": "code",
   "id": "7884ecaf",
   "metadata": {
    "ExecuteTime": {
     "end_time": "2025-05-13T16:42:41.814351Z",
     "start_time": "2025-05-13T16:42:41.797663Z"
    }
   },
   "source": [
    "for A in (0,.5, 1):\n",
    "    for B in (0,.5, 1):\n",
    "        s, c = sk_hadd(A, B)\n",
    "        print(f\"A={A}, B={B} → skSum={s}, skCarry={c}\")"
   ],
   "outputs": [
    {
     "name": "stdout",
     "output_type": "stream",
     "text": [
      "A=0, B=0 → skSum=0, skCarry=0\n",
      "A=0, B=0.5 → skSum=0.5, skCarry=0.5\n",
      "A=0, B=1 → skSum=1, skCarry=0\n",
      "A=0.5, B=0 → skSum=0.5, skCarry=0\n",
      "A=0.5, B=0.5 → skSum=0.5, skCarry=0.5\n",
      "A=0.5, B=1 → skSum=0.5, skCarry=0.5\n",
      "A=1, B=0 → skSum=1, skCarry=0\n",
      "A=1, B=0.5 → skSum=0.5, skCarry=0.5\n",
      "A=1, B=1 → skSum=0, skCarry=1\n"
     ]
    }
   ],
   "execution_count": 8
  },
  {
   "cell_type": "code",
   "id": "22625e35",
   "metadata": {
    "ExecuteTime": {
     "end_time": "2025-05-13T16:42:41.903675Z",
     "start_time": "2025-05-13T16:42:41.888402Z"
    }
   },
   "source": [
    "def full_sk_adder(A, B, Cin):    \n",
    "    sum_sk = txor(A,txor(B,Cin))\n",
    "    carry_out_sk = tor(tand(A,B),tand(Cin,txor(A,B)))# C'=(A.B)+(C.(A.XOR.B))\n",
    "    return sum_sk, carry_out_sk\n",
    "\n",
    "\n",
    "# Example usage: full truth table\n",
    "print(\"  A   B  Cin | Sum Carry\")\n",
    "for A in (0,.5, 1):\n",
    "    for B in (0,.5, 1):\n",
    "        for Cin in (0,.5, 1):\n",
    "            s, c = full_sk_adder(A, B, Cin)\n",
    "            print(f\"{A:>3} {B:>3} {Cin:>4} | {s:>4} {c:>5}\")\n"
   ],
   "outputs": [
    {
     "name": "stdout",
     "output_type": "stream",
     "text": [
      "  A   B  Cin | Sum Carry\n",
      "  0   0    0 |    0     0\n",
      "  0   0  0.5 |  0.5     0\n",
      "  0   0    1 |    1     0\n",
      "  0 0.5    0 |  0.5   0.5\n",
      "  0 0.5  0.5 |  0.5   0.5\n",
      "  0 0.5    1 |  0.5   0.5\n",
      "  0   1    0 |    1     0\n",
      "  0   1  0.5 |  0.5   0.5\n",
      "  0   1    1 |    0     1\n",
      "0.5   0    0 |  0.5   0.5\n",
      "0.5   0  0.5 |  0.5   0.5\n",
      "0.5   0    1 |  0.5   0.5\n",
      "0.5 0.5    0 |  0.5   0.5\n",
      "0.5 0.5  0.5 |  0.5   0.5\n",
      "0.5 0.5    1 |  0.5   0.5\n",
      "0.5   1    0 |  0.5   0.5\n",
      "0.5   1  0.5 |  0.5   0.5\n",
      "0.5   1    1 |  0.5   0.5\n",
      "  1   0    0 |    1     0\n",
      "  1   0  0.5 |  0.5   0.5\n",
      "  1   0    1 |    0     1\n",
      "  1 0.5    0 |  0.5   0.5\n",
      "  1 0.5  0.5 |  0.5   0.5\n",
      "  1 0.5    1 |  0.5   0.5\n",
      "  1   1    0 |    0     1\n",
      "  1   1  0.5 |  0.5     1\n",
      "  1   1    1 |    1     1\n"
     ]
    }
   ],
   "execution_count": 9
  },
  {
   "cell_type": "code",
   "id": "0b471f15",
   "metadata": {
    "ExecuteTime": {
     "end_time": "2025-05-13T16:42:41.998512Z",
     "start_time": "2025-05-13T16:42:41.981701Z"
    }
   },
   "source": [
    "def ternary_ripple_adder(A_list, B_list):\n",
    "    # Pad both lists to the same length\n",
    "    max_len = max(len(A_list), len(B_list))\n",
    "    A_list = A_list[::-1] + [0] * (max_len - len(A_list))  # Reverse for LSB-first\n",
    "    B_list = B_list[::-1] + [0] * (max_len - len(B_list))\n",
    "\n",
    "    result = []\n",
    "    carry = 0\n",
    "\n",
    "    for a, b in zip(A_list, B_list):\n",
    "        s, carry = full_sk_adder(a, b, carry)\n",
    "        result.append(s)\n",
    "\n",
    "    if carry != 0:\n",
    "        result.append(carry)\n",
    "\n",
    "    return result[::-1]  # Return to MSB-first order"
   ],
   "outputs": [],
   "execution_count": 10
  },
  {
   "cell_type": "code",
   "id": "ce66c82b",
   "metadata": {
    "ExecuteTime": {
     "end_time": "2025-05-13T16:42:42.062954Z",
     "start_time": "2025-05-13T16:42:42.051795Z"
    }
   },
   "source": [
    "A = [1, 0, .5]   # Represents 4 or 5\n",
    "B = [1, 1, .5]   # 6 ou 7\n",
    "\n",
    "sum_result = ternary_ripple_adder(A, B)\n",
    "print(\"Sum:\", sum_result)"
   ],
   "outputs": [
    {
     "name": "stdout",
     "output_type": "stream",
     "text": [
      "Sum: [1, 0.5, 0.5, 0.5]\n"
     ]
    }
   ],
   "execution_count": 11
  },
  {
   "cell_type": "code",
   "id": "0a38223d",
   "metadata": {
    "ExecuteTime": {
     "end_time": "2025-05-13T16:42:42.133620Z",
     "start_time": "2025-05-13T16:42:42.123391Z"
    }
   },
   "source": [
    "#TODO: tell the system to replace .5 by 0 and calculate the result\n",
    "# Find a different AND or XOR that could do this, maybe Middle Kleene?"
   ],
   "outputs": [],
   "execution_count": 12
  },
  {
   "cell_type": "code",
   "id": "281096b3",
   "metadata": {
    "ExecuteTime": {
     "end_time": "2025-05-13T16:42:42.204546Z",
     "start_time": "2025-05-13T16:42:42.189935Z"
    }
   },
   "source": [
    "def full_q_adder(A, B, Cin):    \n",
    "    sum_q = tqxor(A,tqxor(B,Cin))\n",
    "    carry_out_q = tqor(tqand(A,B),tqand(Cin,tqxor(A,B)))# C'=(A.B)+(C.(A.XOR.B))\n",
    "    return sum_q, carry_out_q\n",
    "\n",
    "\n",
    "# Example usage: full truth table\n",
    "print(\"A B Cin | Sum Carry\")\n",
    "for A in (0,.5, 1):\n",
    "    for B in (0,.5, 1):\n",
    "        for Cin in (0,.5, 1):\n",
    "            s, c = full_q_adder(A, B, Cin)\n",
    "            print(f\"{A:>3} {B:>3} {Cin:>4} | {s:>4} {c:>5}\")\n"
   ],
   "outputs": [
    {
     "name": "stdout",
     "output_type": "stream",
     "text": [
      "A B Cin | Sum Carry\n",
      "  0   0    0 |    0     0\n",
      "  0   0  0.5 |    1     0\n",
      "  0   0    1 |    1     0\n",
      "  0 0.5    0 |    1     0\n",
      "  0 0.5  0.5 |    1     1\n",
      "  0 0.5    1 |    1     1\n",
      "  0   1    0 |    1     0\n",
      "  0   1  0.5 |    1     1\n",
      "  0   1    1 |    0     1\n",
      "0.5   0    0 |    1     0\n",
      "0.5   0  0.5 |    1     1\n",
      "0.5   0    1 |    1     1\n",
      "0.5 0.5    0 |    1     0\n",
      "0.5 0.5  0.5 |  0.5   0.5\n",
      "0.5 0.5    1 |    1     1\n",
      "0.5   1    0 |    1     1\n",
      "0.5   1  0.5 |    1     1\n",
      "0.5   1    1 |    1     1\n",
      "  1   0    0 |    1     0\n",
      "  1   0  0.5 |    0     1\n",
      "  1   0    1 |    0     1\n",
      "  1 0.5    0 |    0     1\n",
      "  1 0.5  0.5 |    1     1\n",
      "  1 0.5    1 |    0     1\n",
      "  1   1    0 |    0     1\n",
      "  1   1  0.5 |    0     1\n",
      "  1   1    1 |    1     1\n"
     ]
    }
   ],
   "execution_count": 13
  },
  {
   "metadata": {
    "ExecuteTime": {
     "end_time": "2025-05-13T17:01:51.129089Z",
     "start_time": "2025-05-13T17:01:51.112345Z"
    }
   },
   "cell_type": "code",
   "source": [
    "def map_quasi_adder(a,b,cin) :\n",
    "    map ={\n",
    "        -1 : 0,\n",
    "        0 : 0.5,\n",
    "        1: 1,\n",
    "    }\n",
    "    mapout ={\n",
    "        0 : -1,\n",
    "        0.5 : 0,\n",
    "        1 : 1,\n",
    "    }\n",
    "    a = map[a]\n",
    "    b = map[b]\n",
    "    cin = map[cin]\n",
    "    sum = tqxor(a,tqxor(b,cin))\n",
    "    carry = tqor(tqand(a,b),tqand(cin,tqxor(a,b)))# C'=(A.B)+(C.(A.XOR.B))\n",
    "\n",
    "    sum = mapout[sum]\n",
    "    carry = mapout[carry]\n",
    "    return sum, carry\n",
    "\n",
    "print(\"A B Cin | Sum Carry\")\n",
    "for A in (0,-1, 1):\n",
    "    for B in (0,-1, 1):\n",
    "        for Cin in (0,-1, 1):\n",
    "            s, c = map_quasi_adder(A, B, Cin)\n",
    "            print(f\"{A:>3} {B:>3} {Cin:>4} | {s:>4} {c:>5}\")"
   ],
   "id": "1a2c4643c5cb84fe",
   "outputs": [
    {
     "name": "stdout",
     "output_type": "stream",
     "text": [
      "A B Cin | Sum Carry\n",
      "  0   0    0 |    0     0\n",
      "  0   0   -1 |    1    -1\n",
      "  0   0    1 |    1     1\n",
      "  0  -1    0 |    1     1\n",
      "  0  -1   -1 |    1    -1\n",
      "  0  -1    1 |    1     1\n",
      "  0   1    0 |    1     1\n",
      "  0   1   -1 |    1     1\n",
      "  0   1    1 |    1     1\n",
      " -1   0    0 |    1     1\n",
      " -1   0   -1 |    1    -1\n",
      " -1   0    1 |    1     1\n",
      " -1  -1    0 |    1    -1\n",
      " -1  -1   -1 |   -1    -1\n",
      " -1  -1    1 |    1    -1\n",
      " -1   1    0 |    1     1\n",
      " -1   1   -1 |    1    -1\n",
      " -1   1    1 |   -1     1\n",
      "  1   0    0 |    1     1\n",
      "  1   0   -1 |   -1     1\n",
      "  1   0    1 |   -1     1\n",
      "  1  -1    0 |   -1     1\n",
      "  1  -1   -1 |    1    -1\n",
      "  1  -1    1 |   -1     1\n",
      "  1   1    0 |   -1     1\n",
      "  1   1   -1 |   -1     1\n",
      "  1   1    1 |    1     1\n"
     ]
    }
   ],
   "execution_count": 24
  },
  {
   "cell_type": "code",
   "id": "09b086dd",
   "metadata": {
    "ExecuteTime": {
     "end_time": "2025-05-13T16:42:42.296063Z",
     "start_time": "2025-05-13T16:42:42.278334Z"
    }
   },
   "source": [
    "def ternary_ripple_qadder(A_list, B_list):\n",
    "    # Pad both lists to the same length\n",
    "    max_len = max(len(A_list), len(B_list))\n",
    "    A_list = A_list[::-1] + [0] * (max_len - len(A_list))  # Reverse for LSB-first\n",
    "    B_list = B_list[::-1] + [0] * (max_len - len(B_list))\n",
    "\n",
    "    result = []\n",
    "    carry = 0\n",
    "\n",
    "    for a, b in zip(A_list, B_list):\n",
    "        s, carry = full_q_adder(a, b, carry)\n",
    "        result.append(s)\n",
    "\n",
    "    if carry != 0:\n",
    "        result.append(carry)\n",
    "\n",
    "    return result[::-1]  # Return to MSB-first order"
   ],
   "outputs": [],
   "execution_count": 14
  },
  {
   "cell_type": "code",
   "id": "83d45920",
   "metadata": {
    "ExecuteTime": {
     "end_time": "2025-05-13T16:42:42.368030Z",
     "start_time": "2025-05-13T16:42:42.357317Z"
    }
   },
   "source": [
    "A = [.5, 1, 1]   # Represents min 1\n",
    "B = [1, .5, .5]   # min 4\n",
    "\n",
    "sum_result = ternary_ripple_qadder(A, B)\n",
    "print(\"Sum:\", sum_result)"
   ],
   "outputs": [
    {
     "name": "stdout",
     "output_type": "stream",
     "text": [
      "Sum: [1, 1, 0, 0]\n"
     ]
    }
   ],
   "execution_count": 15
  },
  {
   "cell_type": "code",
   "id": "800ba119",
   "metadata": {
    "ExecuteTime": {
     "end_time": "2025-05-13T16:42:42.466420Z",
     "start_time": "2025-05-13T16:42:42.455426Z"
    }
   },
   "source": [
    "A = [1, .5, 1]   # min 5, max 7\n",
    "B = [1, .5, .5]   # min 4, max 7: qadd is 13 so closer to 14 than to 9\n",
    "\n",
    "sum_result = ternary_ripple_qadder(A, B)\n",
    "print(\"Sum:\", sum_result)"
   ],
   "outputs": [
    {
     "name": "stdout",
     "output_type": "stream",
     "text": [
      "Sum: [1, 1, 1, 0]\n"
     ]
    }
   ],
   "execution_count": 16
  },
  {
   "cell_type": "code",
   "id": "5381d11e",
   "metadata": {
    "ExecuteTime": {
     "end_time": "2025-05-13T16:42:42.563790Z",
     "start_time": "2025-05-13T16:42:42.552734Z"
    }
   },
   "source": [
    "A = [.5, 1, .5]   # min 2, max 7\n",
    "B = [.5, 1, .5]   # min 2, max 7: qadd is 15 so closer to 14 than to 4\n",
    "\n",
    "sum_result = ternary_ripple_qadder(A, B)\n",
    "print(\"Sum:\", sum_result)"
   ],
   "outputs": [
    {
     "name": "stdout",
     "output_type": "stream",
     "text": [
      "Sum: [1, 1, 0, 1]\n"
     ]
    }
   ],
   "execution_count": 17
  },
  {
   "cell_type": "code",
   "id": "d9e776ca",
   "metadata": {
    "ExecuteTime": {
     "end_time": "2025-05-13T16:42:42.672196Z",
     "start_time": "2025-05-13T16:42:42.661807Z"
    }
   },
   "source": [
    "A = [.5, 1, 1]   # min 2, max 7\n",
    "B = [.5, 1, 1]   # min 2, max 7: qadd is 13 so closer to 14 than to 9\n",
    "\n",
    "sum_result = ternary_ripple_adder(A, B)\n",
    "print(\"Sum:\", sum_result)"
   ],
   "outputs": [
    {
     "name": "stdout",
     "output_type": "stream",
     "text": [
      "Sum: [0.5, 0.5, 1, 0]\n"
     ]
    }
   ],
   "execution_count": 18
  },
  {
   "cell_type": "code",
   "id": "60eb9254",
   "metadata": {
    "ExecuteTime": {
     "end_time": "2025-05-13T16:42:42.822614Z",
     "start_time": "2025-05-13T16:42:42.811805Z"
    }
   },
   "source": [
    "## Upshot: resolution here is sometimes conservative and sometimes not."
   ],
   "outputs": [],
   "execution_count": 19
  }
 ],
 "metadata": {
  "kernelspec": {
   "display_name": "Python 3 (ipykernel)",
   "language": "python",
   "name": "python3"
  },
  "language_info": {
   "codemirror_mode": {
    "name": "ipython",
    "version": 3
   },
   "file_extension": ".py",
   "mimetype": "text/x-python",
   "name": "python",
   "nbconvert_exporter": "python",
   "pygments_lexer": "ipython3",
   "version": "3.9.7"
  }
 },
 "nbformat": 4,
 "nbformat_minor": 5
}
